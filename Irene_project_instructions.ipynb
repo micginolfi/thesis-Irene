{
  "nbformat": 4,
  "nbformat_minor": 0,
  "metadata": {
    "colab": {
      "provenance": []
    },
    "kernelspec": {
      "name": "python3",
      "display_name": "Python 3"
    },
    "language_info": {
      "name": "python"
    }
  },
  "cells": [
    {
      "cell_type": "markdown",
      "source": [
        "# Importa le librerie necessarie\n",
        "\n",
        "```\n",
        "# This is formatted as code\n",
        "```\n",
        "\n"
      ],
      "metadata": {
        "id": "pVKatIJSmtRr"
      }
    },
    {
      "cell_type": "code",
      "execution_count": null,
      "metadata": {
        "id": "UtHeeQtimqnn"
      },
      "outputs": [],
      "source": [
        "# importa le librerie necessarie ed altre funzioni predefinite preliminari\n",
        "import numpy as np\n",
        "import matplotlib.pyplot as plt\n",
        "import tensorflow as tf\n",
        "from tensorflow.keras.datasets import mnist\n",
        "from tensorflow.keras.models import Sequential\n",
        "from tensorflow.keras.layers import Conv2D, MaxPooling2D, Flatten, Dense\n",
        "from tensorflow.keras.utils import to_categorical\n",
        "from art.attacks.evasion import FastGradientMethod\n",
        "from art.estimators.classification import KerasClassifier\n",
        "import random\n",
        "\n",
        "# Disabilita l'esecuzione immediata (questa riga deve essere eseguita prima di qualsiasi altra operazione TensorFlow)\n",
        "tf.compat.v1.disable_eager_execution()"
      ]
    },
    {
      "cell_type": "markdown",
      "source": [
        "# Preparazione e preprocessing del dataset MNIST"
      ],
      "metadata": {
        "id": "kgSLydMBnUt2"
      }
    },
    {
      "cell_type": "code",
      "source": [
        "# istruzione: importa MNIST\n",
        "# istruzione: normalizza MNIST\n",
        "# istruzione: dividi in train / val / test\n",
        "\n",
        "\n",
        "# reshape adatto per una rete convoluzionale\n",
        "x_train = x_train.reshape(x_train.shape[0], 28, 28, 1)\n",
        "x_test = x_test.reshape(x_test.shape[0], 28, 28, 1)\n",
        "x_val = x_val.reshape(x_val.shape[0], 28, 28, 1)\n",
        "\n",
        "y_train = to_categorical(y_train, 10)\n",
        "y_test = to_categorical(y_test, 10)\n",
        "y_val = to_categorical(y_val, 10)"
      ],
      "metadata": {
        "id": "t8xgNf_LnE86"
      },
      "execution_count": null,
      "outputs": []
    },
    {
      "cell_type": "markdown",
      "source": [
        "# Training di un classificatore MNIST\n"
      ],
      "metadata": {
        "id": "rnp2IGdGnwhE"
      }
    },
    {
      "cell_type": "code",
      "source": [
        "def create_model():\n",
        "    model = Sequential([\n",
        "      # istruzione: definisci architettura del classificatore\n",
        "    ])\n",
        "    model.compile(optimizer='adam', loss='categorical_crossentropy', metrics=['accuracy'])\n",
        "    return model\n",
        "\n",
        "model = create_model()\n",
        "model.summary()"
      ],
      "metadata": {
        "id": "0UijC6TznFCO"
      },
      "execution_count": null,
      "outputs": []
    },
    {
      "cell_type": "code",
      "source": [
        "# model fitting\n",
        "history = model.fit(x_train, y_train, batch_size=128, epochs=5, validation_data=(x_val, y_val), verbose=1)\n",
        "\n",
        "# Evaluate the model on test data and plot training loss\n",
        "test_loss, test_accuracy = model.evaluate(x_test, y_test, verbose=0)\n",
        "print(f\"Test accuracy: {test_accuracy:.4f}\")\n",
        "\n",
        "# Plot training losses\n",
        "plt.figure(figsize=(10, 6))\n",
        "plt.plot(history.history['loss'])\n",
        "plt.plot(history.history['val_loss'])\n",
        "plt.title(\"Training Loss\")\n",
        "plt.xlabel(\"Epoch\")\n",
        "plt.ylabel(\"Loss\")\n",
        "plt.show()"
      ],
      "metadata": {
        "id": "FRQBMQjtnFE5"
      },
      "execution_count": null,
      "outputs": []
    },
    {
      "cell_type": "code",
      "source": [
        "# Visualizzazione delle predizioni\n",
        "\n",
        "# Funzione per visualizzare alcune immagini di esempio\n",
        "def plot_examples(x, y_true, y_pred, n=10):\n",
        "\n",
        "    # istruzione: riempi questa funzione in modo da costruire un grafico di n pannelli,\n",
        "    # in cui in ogni pannello viene visualizzata un'immagine random del test set,\n",
        "    # e nel titolo (o come label) vengano scritti anche i valori predetti ed i valori reali (aspettati)\n",
        "    # questa funzione verrà richiamata anche più in la nel codice\n",
        "\n",
        "\n",
        "plot_examples(x_test, y_test, y_pred)\n"
      ],
      "metadata": {
        "id": "QyWW4TjSnFHk"
      },
      "execution_count": null,
      "outputs": []
    },
    {
      "cell_type": "markdown",
      "source": [
        "# Implementazione di attacchi avversari tramite Adversarial robustness toolbox (ART)"
      ],
      "metadata": {
        "id": "7tXPPeeUp-2T"
      }
    },
    {
      "cell_type": "code",
      "source": [
        "# Creare il classificatore ART\n",
        "art_classifier = KerasClassifier(model=model, clip_values=(0, 1))\n",
        "# clip_values è una tupla di due float che rappresentano i valori minimi e massimi consentiti per le caratteristiche di input.\n"
      ],
      "metadata": {
        "id": "ELzKRd3EnFNS"
      },
      "execution_count": null,
      "outputs": []
    },
    {
      "cell_type": "code",
      "source": [
        "# performiamo un attacco FGSM (Fast Gradient Sign Method) con un epsilon = 0.2 e valutiamo l'accuratezza del modello sulle immagini avversarie.\n",
        "# per creare un attacco FGSM, creare un'istanza della classe FastGradientMethod e chiamare il metodo generate\n",
        "# eplison è il parametro che controlla la forza dell'attacco, ovvero quanto l'immagine originale può essere modificata.\n",
        "epsilon = 0.2\n",
        "fgsm_attack = FastGradientMethod(estimator=art_classifier, eps=epsilon)\n",
        "x_test_adv = fgsm_attack.generate(x=x_test)"
      ],
      "metadata": {
        "id": "3zMgOyWCnFQB"
      },
      "execution_count": null,
      "outputs": []
    },
    {
      "cell_type": "code",
      "source": [
        "# valutiamo l'accuratezza del modello sulle immagini avversarie\n",
        "y_pred_adv = art_classifier.predict(x_test_adv)\n",
        "adv_accuracy = np.sum(np.argmax(y_pred_adv, axis=1) == np.argmax(y_test, axis=1)) / len(y_test)\n",
        "print(f\"Accuracy on adversarial examples (ε={epsilon}): {adv_accuracy:.4f}\")\n",
        "\n",
        "# mostriamo alcuni esempi di predizioni su immagini avversarie random del test set\n",
        "# chiamando la funzione plot_examples definita in precedenza\n",
        "plot_examples(x_test_adv, y_test, y_pred_adv)"
      ],
      "metadata": {
        "id": "IRukEtMVnFSw"
      },
      "execution_count": null,
      "outputs": []
    },
    {
      "cell_type": "code",
      "source": [],
      "metadata": {
        "id": "hOMoesvXnFVf"
      },
      "execution_count": null,
      "outputs": []
    },
    {
      "cell_type": "markdown",
      "source": [
        "# Analisi al variare di epsilon"
      ],
      "metadata": {
        "id": "2EIvjfgDq0wX"
      }
    },
    {
      "cell_type": "code",
      "source": [
        "# valori di epsilon con cui vogliamo attaccare il dataset e rispetto ai quali vogliamo valutare l'accuratezza del modello\n",
        "epsilons = [0.01, 0.05, 0.1, 0.2, 0.3, 0.5]\n",
        "\n",
        "\n",
        "# istruzione: crea un loop in cui generi attacchi ai diversi valori di epsilon, ed ogni volta ti salvi l'accuratezza del modello\n",
        "\n",
        "# istruzione: fai una figura di accuratezza vs epsilon\n",
        "\n",
        "# istrizione: fai una figura in cui fai vedere come una stessa qualsiasi immagine random del dataset viene degradata ai diversi valori di epsilon\n",
        "# per capire fino a che valore di epsilon la degradazione non e' ovviamente notabile."
      ],
      "metadata": {
        "id": "uB2GMq9vnFYQ"
      },
      "execution_count": null,
      "outputs": []
    }
  ]
}